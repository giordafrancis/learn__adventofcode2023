{
 "cells": [
  {
   "cell_type": "markdown",
   "metadata": {},
   "source": [
    "# Advent of code 2023\n",
    "\n",
    "Solutions are my own, if any external source including hints have been used it shall be mentioned and linked.\n",
    "\n",
    "\n",
    "## Part 2 \n",
    "\n",
    "Can't brute force it. \n",
    "\n"
   ]
  },
  {
   "cell_type": "code",
   "execution_count": 8,
   "metadata": {},
   "outputs": [],
   "source": [
    "from __future__ import annotations\n",
    "from dataclasses import dataclass\n",
    "\n",
    "\n",
    "TEST = \"\"\"O....#....\n",
    "O.OO#....#\n",
    ".....##...\n",
    "OO.#O....O\n",
    ".O.....O#.\n",
    "O.#..O.#.#\n",
    "..O..#O..O\n",
    ".......O..\n",
    "#....###..\n",
    "#OO..#....\"\"\"\n",
    "\n",
    "@dataclass\n",
    "class Platform:\n",
    "    pattern: str\n",
    "\n",
    "    @staticmethod\n",
    "    def parse_puzzle(puzzle:str)->Platform:\n",
    "        \n",
    "        pattern = [row for row in puzzle.splitlines()]\n",
    "        return Platform(pattern=pattern)\n",
    "    \n",
    "    def transpose(self)->str:\n",
    "        \"\"\"\n",
    "        Transpose a list of strings in pure python\n",
    "        copied from : https://datagy.io/python-transpose-list-of-lists/\n",
    "        \"\"\"\n",
    "        num_cols = len(self.pattern[0])\n",
    "        transposed = [\n",
    "                        \"\".join(row[i] for row in self.pattern)\n",
    "                        for i in range(num_cols)\n",
    "        ]\n",
    "        self.pattern_transposed = transposed\n",
    "\n",
    "    def tilt(self):\n",
    "        self.transpose() \n",
    "        pattT = self.pattern_transposed\n",
    "        pattT_tilt = list()\n",
    "        for row in pattT:\n",
    "            temp= row.split('#') # remove \"#\" from sorting\n",
    "            # print(temp)\n",
    "            pattT_tilt.append(\n",
    "                \"#\".join(\"\".join(sorted(t, reverse=True)) for t in temp)\n",
    "            )\n",
    "        self.pattern_tilted = pattT_tilt\n",
    "\n",
    "    def get_total_load(self)->int:\n",
    "        self.tilt()\n",
    "        L = len(self.pattern_tilted[0])\n",
    "        total = sum(\n",
    "            L - x\n",
    "            for row in self.pattern_tilted\n",
    "            for x, char in enumerate(row)\n",
    "            if char == \"O\"\n",
    "        )\n",
    "        return total\n",
    "\n",
    "def part1(puzzle:str)->int:\n",
    "    plat = Platform.parse_puzzle(puzzle=puzzle)\n",
    "    plat.tilt()\n",
    "    return plat.get_total_load()\n",
    "\n",
    "assert part1(puzzle=TEST) == 136\n",
    "    \n",
    "    "
   ]
  },
  {
   "cell_type": "markdown",
   "metadata": {},
   "source": [
    "## Solutions"
   ]
  },
  {
   "cell_type": "code",
   "execution_count": 9,
   "metadata": {},
   "outputs": [
    {
     "name": "stdout",
     "output_type": "stream",
     "text": [
      "111979\n"
     ]
    }
   ],
   "source": [
    "with open(\"puzzle_input/day14.txt\") as file:\n",
    "    puzzle = file.read()\n",
    "print(part1(puzzle=puzzle))"
   ]
  }
 ],
 "metadata": {
  "kernelspec": {
   "display_name": "fgs2",
   "language": "python",
   "name": "python3"
  },
  "language_info": {
   "codemirror_mode": {
    "name": "ipython",
    "version": 3
   },
   "file_extension": ".py",
   "mimetype": "text/x-python",
   "name": "python",
   "nbconvert_exporter": "python",
   "pygments_lexer": "ipython3",
   "version": "3.10.4"
  }
 },
 "nbformat": 4,
 "nbformat_minor": 2
}
