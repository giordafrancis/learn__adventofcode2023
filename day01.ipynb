{
 "cells": [
  {
   "cell_type": "markdown",
   "metadata": {},
   "source": [
    "# Advent of code 2023\n",
    "\n",
    "Solutions are my own, if any external source including hints have been used it shall be mentioned and linked."
   ]
  },
  {
   "cell_type": "markdown",
   "metadata": {},
   "source": [
    "## Part 1\n",
    "The newly-improved calibration document consists of lines of text; each line originally contained a specific calibration value that the Elves now need to recover. On each line, the calibration value can be found by combining the first digit and the last digit (in that order) to form a single two-digit number.\n",
    "\n",
    "For example:\n",
    "\n",
    "```python\n",
    "1abc2\n",
    "pqr3stu8vwx\n",
    "a1b2c3d4e5f\n",
    "treb7uchet\n",
    "\n"
   ]
  },
  {
   "cell_type": "markdown",
   "metadata": {},
   "source": [
    "\n",
    "In this example, the calibration values of these four lines are 12, 38, 15, and 77. Adding these together produces 142.\n",
    "\n",
    "Consider your entire calibration document. What is the sum of all of the calibration values?"
   ]
  },
  {
   "cell_type": "code",
   "execution_count": 1,
   "metadata": {},
   "outputs": [],
   "source": [
    "test_doc = \"\"\"1abc2\n",
    "pqr3stu8vwx\n",
    "a1b2c3d4e5f\n",
    "treb7uchet\"\"\"\n",
    "\n",
    "def parse_document(document: str) -> list[str]:\n",
    "    \"\"\"\n",
    "    Parses the document into a list of strings.\n",
    "    - Strips whitespace and converts to lowercase.\n",
    "    - Yields each cleaned row.\n",
    "    \"\"\"\n",
    "    yield from (row.strip().lower()\n",
    "                for row in document.split(\"\\n\")\n",
    "                if row)\n",
    "\n",
    "def part1(document: str) -> int:\n",
    "    \"\"\"\n",
    "    Solves part 1 of the document parsing puzzle.\n",
    "    - Extracts numeric characters from each row.\n",
    "    - Yields the integer formed by the first and last numeric characters of each row.\n",
    "    \"\"\"\n",
    "    for row in parse_document(document):\n",
    "        nums_row = list()\n",
    "        for c in row:\n",
    "            if c.isnumeric():\n",
    "                nums_row.append(c)\n",
    "        yield int(f\"{nums_row[0]}{nums_row[-1]}\")\n",
    "\n",
    "# Asserts if the sum of the yielded values from part1 matches the expected result.\n",
    "assert sum(part1(document=test_doc)) == 142"
   ]
  },
  {
   "cell_type": "markdown",
   "metadata": {},
   "source": [
    "## Part 2\n",
    "\n",
    "Your calculation isn't quite right. It looks like some of the digits are actually spelled out with letters: one, two, three, four, five, six, seven, eight, and nine also count as valid \"digits\".\n",
    "\n",
    "Equipped with this new information, you now need to find the real first and last digit on each line. For example:\n",
    "```python \n",
    "two1nine\n",
    "eightwothree\n",
    "abcone2threexyz\n",
    "xtwone3four\n",
    "4nineeightseven2\n",
    "zoneight234\n",
    "7pqrstsixteen\n"
   ]
  },
  {
   "cell_type": "markdown",
   "metadata": {},
   "source": [
    "\n",
    "In this example, the calibration values are 29, 83, 13, 24, 42, 14, and 76. Adding these together produces 281.\n",
    "\n",
    "What is the sum of all of the calibration values?"
   ]
  },
  {
   "cell_type": "code",
   "execution_count": 3,
   "metadata": {},
   "outputs": [
    {
     "name": "stdout",
     "output_type": "stream",
     "text": [
      "[29, 83, 13, 24, 42, 14, 76, 48]\n"
     ]
    }
   ],
   "source": [
    "test_doc2 = \"\"\"two1nine\n",
    "eightwothree\n",
    "abcone2threexyz\n",
    "xtwone3four\n",
    "4nineeightseven2\n",
    "zoneight234\n",
    "7pqrstsixteen\"\"\"\n",
    "\n",
    "def create_mappers():\n",
    "    \"\"\"\n",
    "    Creates mappers for translating spelled-out numbers to digits and vice versa.\n",
    "    - Returns a combined dictionary of forward and reversed mappings.\n",
    "    \"\"\"\n",
    "    mapper = {\n",
    "        'one': '1', 'two': '2', 'three': '3',\n",
    "        'four': '4', 'five': '5', 'six': '6',\n",
    "        'seven': '7', 'eight': '8', 'nine': '9'\n",
    "    }\n",
    "    mapper_rev = {\n",
    "        k[::-1]: val\n",
    "        for k, val in mapper.items()\n",
    "    }\n",
    "    return mapper | mapper_rev\n",
    "\n",
    "def scan_row(row: str, mapper: dict[str, str]) -> str:\n",
    "    \"\"\"\n",
    "    Scans a row to identify and return the first found digit.\n",
    "    - Stops and returns the digit when a spelled-out number or digit is found.\n",
    "    \"\"\"\n",
    "    spelled = list()\n",
    "    for char in row:\n",
    "        if char.isnumeric():\n",
    "            return char\n",
    "        spelled.append(char)\n",
    "        spelled_text = \"\".join(spelled)\n",
    "        for key in mapper.keys():\n",
    "            if key in spelled_text:\n",
    "                return mapper[key]\n",
    "\n",
    "def part2(document: str) -> int:\n",
    "    \"\"\"\n",
    "    Solves part 2 of the document parsing puzzle.\n",
    "    - Handles issues with overlapping spelled-out numbers.\n",
    "    \"\"\"\n",
    "    mapper = create_mappers()\n",
    "    for row in parse_document(document):\n",
    "        # Scan left\n",
    "        left_digit = scan_row(row=row, mapper=mapper)\n",
    "        # Scan right\n",
    "        right_digit = scan_row(row=row[::-1], mapper=mapper)\n",
    "        yield int(left_digit + right_digit)\n",
    "\n",
    "# Additional test case appended to the document\n",
    "test_doc2 += \"\\n43oneight\"\n",
    "\n",
    "# Printing the list generated by part2 for visibility\n",
    "print(list(part2(document=test_doc2)))\n",
    "\n",
    "# Asserts if the sum of the yielded values from part2 matches the expected result.\n",
    "assert sum(part2(document=test_doc2)) == 281 + 48\n"
   ]
  },
  {
   "cell_type": "markdown",
   "metadata": {},
   "source": [
    "## Solutions"
   ]
  },
  {
   "cell_type": "code",
   "execution_count": 5,
   "metadata": {},
   "outputs": [
    {
     "name": "stdout",
     "output_type": "stream",
     "text": [
      "part1 55538\n",
      "part2 54875\n"
     ]
    }
   ],
   "source": [
    "with open(\"puzzle_input/day01.txt\") as file:\n",
    "    puzzle = file.read()\n",
    "    print(\"part1\", sum(part1(puzzle)))\n",
    "    print(\"part2\", sum(part2(puzzle)))"
   ]
  }
 ],
 "metadata": {
  "kernelspec": {
   "display_name": "Python 3",
   "language": "python",
   "name": "python3"
  },
  "language_info": {
   "codemirror_mode": {
    "name": "ipython",
    "version": 3
   },
   "file_extension": ".py",
   "mimetype": "text/x-python",
   "name": "python",
   "nbconvert_exporter": "python",
   "pygments_lexer": "ipython3",
   "version": "3.10.4"
  }
 },
 "nbformat": 4,
 "nbformat_minor": 2
}
