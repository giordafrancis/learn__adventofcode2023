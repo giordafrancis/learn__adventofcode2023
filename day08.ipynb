{
 "cells": [
  {
   "cell_type": "markdown",
   "metadata": {},
   "source": [
    "# Advent of code 2023\n",
    "\n",
    "Solutions are my own, if any external source including hints have been used it shall be mentioned and linked.\n"
   ]
  },
  {
   "cell_type": "markdown",
   "metadata": {},
   "source": [
    "## Part1\n",
    "\n"
   ]
  },
  {
   "cell_type": "code",
   "execution_count": 1,
   "metadata": {},
   "outputs": [],
   "source": [
    "from __future__ import annotations\n",
    "from dataclasses import dataclass\n",
    "from itertools import cycle\n",
    "import math\n",
    "\n",
    "# Example test cases\n",
    "TEST = \"\"\"RL\n",
    "\n",
    "AAA = (BBB, CCC)\n",
    "BBB = (DDD, EEE)\n",
    "CCC = (ZZZ, GGG)\n",
    "DDD = (DDD, DDD)\n",
    "EEE = (EEE, EEE)\n",
    "GGG = (GGG, GGG)\n",
    "ZZZ = (ZZZ, ZZZ)\"\"\"\n",
    "\n",
    "TEST2 = \"\"\"LLR\n",
    "\n",
    "AAA = (BBB, BBB)\n",
    "BBB = (AAA, ZZZ)\n",
    "ZZZ = (ZZZ, ZZZ)\"\"\"\n",
    "\n",
    "TEST3 = \"\"\"LR\n",
    "\n",
    "11A = (11B, XXX)\n",
    "11B = (XXX, 11Z)\n",
    "11Z = (11B, XXX)\n",
    "22A = (22B, XXX)\n",
    "22B = (22C, 22C)\n",
    "22C = (22Z, 22Z)\n",
    "22Z = (22B, 22B)\n",
    "XXX = (XXX, XXX)\"\"\"\n",
    "\n",
    "\n",
    "@dataclass\n",
    "class Node:\n",
    "    \"\"\"Represents a node in a network.\"\"\"\n",
    "    name: str\n",
    "    left: str\n",
    "    right: str\n",
    "\n",
    "    @staticmethod\n",
    "    def parse_node(row: str) -> Node:\n",
    "        \"\"\"Parse a string row into a Node object.\"\"\"\n",
    "        name, rest = row.split(\" = \")\n",
    "        rest = rest.replace(\"(\", \"\").replace(\")\", \"\")\n",
    "        left, right = rest.split(\", \")\n",
    "        return Node(name=name.strip(),\n",
    "                    left=left.strip(),\n",
    "                    right=right.strip())\n",
    "\n",
    "\n",
    "@dataclass\n",
    "class Network:\n",
    "    \"\"\"Represents a network of interconnected nodes.\"\"\"\n",
    "    instructions: str\n",
    "    network: dict[str, Node]\n",
    "\n",
    "    @staticmethod\n",
    "    def parse_network(puzzle: str) -> Map:\n",
    "        \"\"\"Parse a puzzle string into a Network object.\"\"\"\n",
    "        rows = puzzle.splitlines()\n",
    "        instructions = rows[0].strip()\n",
    "        network = dict()\n",
    "        for row in rows[1:]:\n",
    "            if row:\n",
    "                node = Node.parse_node(row)\n",
    "                network[node.name] = node\n",
    "        return Network(instructions=instructions,\n",
    "                   network=network)\n",
    "\n",
    "    def find_final_node(self, part2: bool = False, name=None):\n",
    "        \"\"\"Find the final node based on given instructions.\"\"\"\n",
    "        parse_inst = {\n",
    "            'L': 'left',\n",
    "            'R': 'right'\n",
    "        }\n",
    "        inst = cycle(self.instructions) # inf loop\n",
    "        num_steps = 0\n",
    "        while True:\n",
    "            step = parse_inst[next(inst)]\n",
    "            name = getattr(self.network[name], step)\n",
    "            num_steps += 1\n",
    "            final_cond = (name[-1] == 'Z') if part2 else (name == 'ZZZ')\n",
    "            if final_cond:\n",
    "                break\n",
    "        return num_steps\n",
    "\n",
    "    def find_common_ending(self):\n",
    "        \"\"\"Find the number of steps to reach the common ending.\"\"\"\n",
    "        node_queue = [self.network[node_name]\n",
    "                      for node_name in self.network\n",
    "                      if node_name[-1] == 'A']\n",
    "        steps = [\n",
    "            self.find_final_node(name=node.name, part2=True)\n",
    "            for node in node_queue\n",
    "        ]\n",
    "        return math.lcm(*steps)\n"
   ]
  },
  {
   "cell_type": "code",
   "execution_count": 2,
   "metadata": {},
   "outputs": [],
   "source": [
    "net1 = Network.parse_network(puzzle=TEST)\n",
    "assert net1.find_final_node(name='AAA') == 2\n",
    "net2 = Network.parse_network(puzzle=TEST2)\n",
    "assert net2.find_final_node(name='AAA') == 6\n",
    "net3 = Network.parse_network(puzzle=TEST3)\n",
    "assert net3.find_common_ending() == 6"
   ]
  },
  {
   "cell_type": "markdown",
   "metadata": {},
   "source": [
    "## Solutions"
   ]
  },
  {
   "cell_type": "code",
   "execution_count": 3,
   "metadata": {},
   "outputs": [
    {
     "name": "stdout",
     "output_type": "stream",
     "text": [
      "part1 15871\n",
      "part2 11283670395017\n"
     ]
    }
   ],
   "source": [
    "with open(\"puzzle_input/day08.txt\") as file:\n",
    "    puzzle = file.read()\n",
    "net = Network.parse_network(puzzle=puzzle)\n",
    "print(\"part1\", net.find_final_node(name='AAA'))\n",
    "print(\"part2\", net.find_common_ending())\n"
   ]
  }
 ],
 "metadata": {
  "kernelspec": {
   "display_name": "Python 3",
   "language": "python",
   "name": "python3"
  },
  "language_info": {
   "codemirror_mode": {
    "name": "ipython",
    "version": 3
   },
   "file_extension": ".py",
   "mimetype": "text/x-python",
   "name": "python",
   "nbconvert_exporter": "python",
   "pygments_lexer": "ipython3",
   "version": "3.10.4"
  }
 },
 "nbformat": 4,
 "nbformat_minor": 2
}
