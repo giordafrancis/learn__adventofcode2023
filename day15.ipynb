{
 "cells": [
  {
   "cell_type": "markdown",
   "metadata": {},
   "source": [
    "# Advent of code 2023\n",
    "\n",
    "Solutions are my own, if any external source including hints have been used it shall be mentioned and linked.\n"
   ]
  },
  {
   "cell_type": "code",
   "execution_count": 1,
   "metadata": {},
   "outputs": [],
   "source": [
    "from __future__ import annotations\n",
    "from dataclasses import dataclass\n",
    "import re\n",
    "from collections import defaultdict\n",
    "\n",
    "\n",
    "TEST = \"\"\"rn=1,cm-,qp=3,cm=2,qp-,pc=4,ot=9,ab=5,pc-,pc=6,ot=7\"\"\"\n",
    "\n",
    "@dataclass\n",
    "class Step:\n",
    "    step:str\n",
    "\n",
    "    def __post_init__(self):\n",
    "        self.get_operation()\n",
    "        self.hash()\n",
    "\n",
    "    \n",
    "    def get_operation(self):\n",
    "        patt = \"=|-\"\n",
    "        temp = re.split(pattern=patt, string=self.step)\n",
    "        if not temp[-1]:\n",
    "            self.val = None\n",
    "            self.lab = temp[0]\n",
    "        else:\n",
    "            op, val = temp\n",
    "            self.val = int(val)\n",
    "            self.lab = op\n",
    "        \n",
    "    def hash(self)->int:\n",
    "        # hash for all step\n",
    "        total = 0\n",
    "        for char in self.step:\n",
    "            total += ord(char)\n",
    "            total *= 17\n",
    "            total %= 256\n",
    "        self.total = total\n",
    "        # hash just for label\n",
    "        hash = 0\n",
    "        for char in self.lab:\n",
    "            hash += ord(char)\n",
    "            hash *= 17\n",
    "            hash %= 256\n",
    "        self.hash = hash\n",
    "        \n",
    "\n",
    "@dataclass\n",
    "class Sequence:\n",
    "    steps: list[Step]\n",
    "\n",
    "    def __post_init__(self):\n",
    "        self.total_sequence_hash()\n",
    "        self.lens_slots()\n",
    "\n",
    "    def total_sequence_hash(self)->int:\n",
    "        total = sum(step.total for step in self.steps)\n",
    "        return total\n",
    "\n",
    "    @staticmethod\n",
    "    def parse_sequence(puzzle:str)->Sequence:\n",
    "        steps =  [Step(step=s) for s in puzzle.split(\",\")]\n",
    "        return Sequence(steps=steps)\n",
    "\n",
    "    def lens_slots(self):\n",
    "\n",
    "        lens_slots = defaultdict(dict)\n",
    "        for step in self.steps:\n",
    "            hash, lab, val = step.hash, step.lab, step.val\n",
    "            if not val: # \"-\" label\n",
    "                lens_slots[hash].pop(lab, None) # None handles missing key\n",
    "            else:\n",
    "                lens_slots[hash][lab] = val\n",
    "        self.lens_slots = lens_slots\n",
    "\n",
    "    def focusing_power(self)->int:\n",
    "        fp = 0\n",
    "        for box, lens in self.lens_slots.items():\n",
    "            if self.lens_slots[box]:\n",
    "                for i, val in enumerate(lens.values(), 1):\n",
    "                    fp += (box + 1) * i * val\n",
    "        return fp\n",
    "     \n",
    "def part1(puzzle:str)->int:\n",
    "    s = Sequence.parse_sequence(puzzle=puzzle)\n",
    "    return s.total_sequence_hash()\n",
    "\n",
    "def part2(puzzle:str)->int:\n",
    "    s = Sequence.parse_sequence(puzzle=puzzle)\n",
    "    return s.focusing_power()\n",
    "\n",
    "assert part1(puzzle=TEST) == 1320\n",
    "assert part2(puzzle=TEST) == 145\n"
   ]
  },
  {
   "cell_type": "markdown",
   "metadata": {},
   "source": [
    "## Solutions"
   ]
  },
  {
   "cell_type": "code",
   "execution_count": 2,
   "metadata": {},
   "outputs": [
    {
     "name": "stdout",
     "output_type": "stream",
     "text": [
      "513172\n",
      "237806\n"
     ]
    }
   ],
   "source": [
    "with open(\"puzzle_input/day15.txt\") as file:\n",
    "    puzzle = file.read()\n",
    "print(part1(puzzle=puzzle))\n",
    "print(part2(puzzle=puzzle))\n"
   ]
  }
 ],
 "metadata": {
  "kernelspec": {
   "display_name": "fgs2",
   "language": "python",
   "name": "python3"
  },
  "language_info": {
   "codemirror_mode": {
    "name": "ipython",
    "version": 3
   },
   "file_extension": ".py",
   "mimetype": "text/x-python",
   "name": "python",
   "nbconvert_exporter": "python",
   "pygments_lexer": "ipython3",
   "version": "3.10.4"
  }
 },
 "nbformat": 4,
 "nbformat_minor": 2
}
