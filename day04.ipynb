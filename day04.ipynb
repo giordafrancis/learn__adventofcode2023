{
 "cells": [
  {
   "cell_type": "markdown",
   "metadata": {},
   "source": [
    "# Advent of code 2023\n",
    "\n",
    "Solutions are my own, if any external source including hints have been used it shall be mentioned and linked.\n"
   ]
  },
  {
   "cell_type": "markdown",
   "metadata": {},
   "source": [
    "## Part 1\n",
    "\n",
    "----- Day 4: Scratchcards ---\n",
    "\n",
    "The Elf leads you over to the pile of colorful cards. There, you discover dozens of scratchcards, all with their opaque covering already scratched off. Picking one up, it looks like each card has two lists of numbers separated by a vertical bar (|): a list of winning numbers and then a list of numbers you have. You organize the information into a table (your puzzle input).\n",
    "\n",
    "As far as the Elf has been able to figure out, you have to figure out which of the numbers you have appear in the list of winning numbers. The first match makes the card worth one point and each match after the first doubles the point value of that card.\n",
    "\n",
    "For example:\n",
    "```\n",
    "Card 1: 41 48 83 86 17 | 83 86  6 31 17  9 48 53\n",
    "Card 2: 13 32 20 16 61 | 61 30 68 82 17 32 24 19\n",
    "Card 3:  1 21 53 59 44 | 69 82 63 72 16 21 14  1\n",
    "Card 4: 41 92 73 84 69 | 59 84 76 51 58  5 54 83\n",
    "Card 5: 87 83 26 28 32 | 88 30 70 12 93 22 82 36\n",
    "Card 6: 31 18 13 56 72 | 74 77 10 23 35 67 36 11\n",
    "```\n",
    "In the above example, card 1 has five winning numbers (41, 48, 83, 86, and 17) and eight numbers you have (83, 86, 6, 31, 17, 9, 48, and 53). Of the numbers you have, four of them (48, 83, 17, and 86) are winning numbers! That means card 1 is worth 8 points (1 for the first match, then doubled three times for each of the three matches after the first).\n",
    "\n",
    "    Card 2 has two winning numbers (32 and 61), so it is worth 2 points.\n",
    "    Card 3 has two winning numbers (1 and 21), so it is worth 2 points.\n",
    "    Card 4 has one winning number (84), so it is worth 1 point.\n",
    "    Card 5 has no winning numbers, so it is worth no points.\n",
    "    Card 6 has no winning numbers, so it is worth no points.\n",
    "\n",
    "So, in this example, the Elf's pile of scratchcards is worth 13 points.\n",
    "\n",
    "Take a seat in the large pile of colorful cards. How many points are they worth in total?"
   ]
  },
  {
   "cell_type": "code",
   "execution_count": 1,
   "metadata": {},
   "outputs": [],
   "source": [
    "from dataclasses import dataclass\n",
    "from typing import Generator\n",
    "from collections import deque\n",
    "\n",
    "@dataclass\n",
    "class Card:\n",
    "    id_: int\n",
    "    my_numbers : set[int]\n",
    "    win_numbers: set[int]\n",
    "    points:int= 0\n",
    "\n",
    "    @staticmethod\n",
    "    def _parse_id(row:str)->int:\n",
    "        return int(row.split(\":\")[0].split()[-1])\n",
    "    \n",
    "    @staticmethod\n",
    "    def _parse_win_numbers(row:str)->list[int]:\n",
    "        temp = row.split(\"|\")[0].split(\":\")[-1].split()\n",
    "        return set(int(num) for num in temp)\n",
    "    \n",
    "    @staticmethod\n",
    "    def _parse_my_numbers(row:str)->list[int]:\n",
    "        temp = row.split(\"|\")[-1].split()\n",
    "        return set(int(num) for num in temp)\n",
    "    \n",
    "    @staticmethod\n",
    "    def parse_card(row:str)->'Card':\n",
    "        return Card(\n",
    "            id_=Card._parse_id(row),\n",
    "            my_numbers=Card._parse_my_numbers(row),\n",
    "            win_numbers=Card._parse_win_numbers(row)\n",
    "        )\n",
    "\n",
    "    def __post_init__(self):\n",
    "        \"\"\"Initializes the card matched numbers, points and copies won\"\"\"\n",
    "        self.get_matched_numbers() \n",
    "        self.get_card_points() \n",
    "        self.get_card_copies() # added p2\n",
    "\n",
    "    def get_card_copies(self):\n",
    "        \"keep a list of card num ids of the copies won\"\n",
    "        L = len(self.matched_numbers)\n",
    "        self.card_copies = [i for i in range(self.id_ + 1, self.id_ + 1 + L)]       \n",
    "    \n",
    "    def get_matched_numbers(self):\n",
    "        self.matched_numbers = self.win_numbers & self.my_numbers \n",
    "\n",
    "    def get_card_points(self):\n",
    "        if self.matched_numbers:\n",
    "            L = len(self.matched_numbers)\n",
    "            if L == 1:\n",
    "                self.points = 1\n",
    "            else:\n",
    "                points = 1\n",
    "                for _ in range(L-1):\n",
    "                    points *=2\n",
    "                self.points = points\n",
    "\n",
    "def parse_puzzle(puzzle:str)->Generator[Card, None, None]:\n",
    "    for row in puzzle.splitlines():\n",
    "        yield Card.parse_card(row=row)\n",
    "\n",
    "\n",
    "def part1(puzzle:str)->int:\n",
    "    cards = parse_puzzle(puzzle=puzzle)\n",
    "    return sum(\n",
    "        card.points\n",
    "        for card in cards\n",
    "    )\n",
    "\n"
   ]
  },
  {
   "cell_type": "code",
   "execution_count": 2,
   "metadata": {},
   "outputs": [],
   "source": [
    "row = \"Card 1: 41 48 83 86 17 | 83 86  6 31 17  9 48 53\"\n",
    "Card.parse_card(row=row).points == 8\n",
    "\n",
    "TEST = \"\"\"Card 1: 41 48 83 86 17 | 83 86  6 31 17  9 48 53\n",
    "Card 2: 13 32 20 16 61 | 61 30 68 82 17 32 24 19\n",
    "Card 3:  1 21 53 59 44 | 69 82 63 72 16 21 14  1\n",
    "Card 4: 41 92 73 84 69 | 59 84 76 51 58  5 54 83\n",
    "Card 5: 87 83 26 28 32 | 88 30 70 12 93 22 82 36\n",
    "Card 6: 31 18 13 56 72 | 74 77 10 23 35 67 36 11\"\"\"\n",
    "\n",
    "assert part1(puzzle=TEST) == 13"
   ]
  },
  {
   "cell_type": "markdown",
   "metadata": {},
   "source": [
    "## Part 2"
   ]
  },
  {
   "cell_type": "code",
   "execution_count": 3,
   "metadata": {},
   "outputs": [],
   "source": [
    "def part2(puzzle:str):\n",
    "    \"\"\"breadth first search on the scratchcard children (copies)\"\"\"\n",
    "    cards = list(parse_puzzle(puzzle=puzzle))\n",
    "    queue = deque(cards)  # Initialise queue\n",
    "    counter = len(queue) # account for original cards\n",
    "    while queue:\n",
    "        # bfs start from the root card1\n",
    "        current_node = queue.popleft()\n",
    "        # print(current_node.card_copies)\n",
    "        # Dequeue the first card\n",
    "        # Enqueue all children (card copies) of the current node\n",
    "        \n",
    "        for child_idx in current_node.card_copies:\n",
    "            queue.append(cards[child_idx-1])  # cards start count in 1 \n",
    "            counter += 1 # count all cards added\n",
    "    return counter\n",
    "\n",
    "assert part2(puzzle=TEST) == 30"
   ]
  },
  {
   "cell_type": "markdown",
   "metadata": {},
   "source": [
    "## Solutions"
   ]
  },
  {
   "cell_type": "code",
   "execution_count": 4,
   "metadata": {},
   "outputs": [
    {
     "name": "stdout",
     "output_type": "stream",
     "text": [
      "part1 25010\n"
     ]
    },
    {
     "name": "stdout",
     "output_type": "stream",
     "text": [
      "part2 9924412\n"
     ]
    }
   ],
   "source": [
    "with open(\"puzzle_input/day04.txt\") as file:\n",
    "    puzzle = file.read()\n",
    "\n",
    "print(\"part1\", part1(puzzle=puzzle))\n",
    "print(\"part2\", part2(puzzle=puzzle))\n",
    "# print(\"part2\", sum(part2(puzzle=puzzle, numbers=numbers)))"
   ]
  }
 ],
 "metadata": {
  "kernelspec": {
   "display_name": "Python 3",
   "language": "python",
   "name": "python3"
  },
  "language_info": {
   "codemirror_mode": {
    "name": "ipython",
    "version": 3
   },
   "file_extension": ".py",
   "mimetype": "text/x-python",
   "name": "python",
   "nbconvert_exporter": "python",
   "pygments_lexer": "ipython3",
   "version": "3.10.4"
  }
 },
 "nbformat": 4,
 "nbformat_minor": 2
}
