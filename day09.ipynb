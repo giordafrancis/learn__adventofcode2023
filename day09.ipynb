{
 "cells": [
  {
   "cell_type": "markdown",
   "metadata": {},
   "source": [
    "# Advent of code 2023\n",
    "\n",
    "Solutions are my own, if any external source including hints have been used it shall be mentioned and linked.\n"
   ]
  },
  {
   "cell_type": "markdown",
   "metadata": {},
   "source": [
    "## Part1\n",
    "\n",
    "--- Day 9: Mirage Maintenance ---\n",
    "\n",
    "You pull out your handy Oasis And Sand Instability Sensor and analyze your surroundings. The OASIS produces a report of many values and how they are changing over time (your puzzle input). Each line in the report contains the history of a single value. For example:\n",
    "\n",
    "\n"
   ]
  },
  {
   "cell_type": "code",
   "execution_count": 3,
   "metadata": {},
   "outputs": [],
   "source": [
    "from __future__ import annotations\n",
    "from dataclasses import dataclass\n",
    "\n",
    "TEST = \"\"\"0 3 6 9 12 15\n",
    "1 3 6 10 15 21\n",
    "10 13 16 21 30 45\"\"\"\n",
    "\n",
    "@dataclass\n",
    "class Value:\n",
    "    history: list[int]\n",
    "\n",
    "    @staticmethod\n",
    "    def parse_value(row:str)->Value:\n",
    "        return Value(history= [int(val) for val in row.split()])\n",
    "    \n",
    "    def forward_differences(self):\n",
    "        # Calculate forward differences until they reach a constant value\n",
    "        differences = self.history.copy()\n",
    "        last_value_window =  list()\n",
    "        while True:\n",
    "            new_diff = [differences[i + 1] - differences[i] \n",
    "                        for i in range(len(differences) - 1)]\n",
    "            # print(new_diff)\n",
    "            if all(val == 0 for val in new_diff):\n",
    "                break\n",
    "            yield(new_diff[-1])\n",
    "            differences = new_diff.copy()\n",
    "\n",
    "    def backward_differences(self):\n",
    "        # Calculate forward differences until they reach a constant value\n",
    "        differences = self.history.copy()[::-1]\n",
    "        last_value_window =  list()\n",
    "        while True:\n",
    "            new_diff = [differences[i] - differences[i+1] \n",
    "                        for i in range(len(differences) - 1)]\n",
    "            # print(new_diff)\n",
    "            if all(val == 0 for val in new_diff):\n",
    "                break\n",
    "            yield(new_diff[-1])\n",
    "            differences = new_diff.copy()\n",
    "    \n",
    "    def extrapolate_last_value(self):\n",
    "        # Extrapolate the last value based on differences\n",
    "        return sum(self.forward_differences()) + self.history[-1]\n",
    "    \n",
    "    def extrapolate_last_value2(self):\n",
    "        # Extrapolate the last value based on differences\n",
    "        diff = list(self.backward_differences()).copy()\n",
    "        differences = [0] +  diff[::-1] + [self.history[0]]\n",
    "        # print(differences)\n",
    "        total = 0\n",
    "        for i in range(len(differences)-1):\n",
    "            diff = differences[i+1] - total\n",
    "            total = diff\n",
    "        return total\n",
    "    \n",
    "@dataclass\n",
    "class Oasis:\n",
    "    values: list[Value]\n",
    "\n",
    "    @staticmethod\n",
    "    def parse_oasis(puzzle:str):\n",
    "        values = [Value.parse_value(row=row) for row in puzzle.splitlines()]\n",
    "        return Oasis(values=values)\n",
    "    \n",
    "    def total_extrapolated_values(self, part2:bool=False):\n",
    "        if part2:\n",
    "            return sum(val.extrapolate_last_value2()\n",
    "                       for val in self.values)\n",
    "        return sum(val.extrapolate_last_value()\n",
    "                   for val in self.values)\n",
    "\n",
    "\n",
    "oasis = Oasis.parse_oasis(puzzle=TEST)\n",
    "assert oasis.total_extrapolated_values() == 114\n",
    "assert oasis.total_extrapolated_values(part2=True) == 2\n"
   ]
  },
  {
   "cell_type": "markdown",
   "metadata": {},
   "source": [
    "## Solutions"
   ]
  },
  {
   "cell_type": "code",
   "execution_count": 4,
   "metadata": {},
   "outputs": [
    {
     "name": "stdout",
     "output_type": "stream",
     "text": [
      "part1 1789635132\n",
      "part2 913\n"
     ]
    }
   ],
   "source": [
    "with open(\"puzzle_input/day09.txt\") as file:\n",
    "    puzzle = file.read()\n",
    "oasis = Oasis.parse_oasis(puzzle=puzzle)\n",
    "print(\"part1\", oasis.total_extrapolated_values())\n",
    "print(\"part2\", oasis.total_extrapolated_values(part2=True))\n"
   ]
  }
 ],
 "metadata": {
  "kernelspec": {
   "display_name": "Python 3",
   "language": "python",
   "name": "python3"
  },
  "language_info": {
   "codemirror_mode": {
    "name": "ipython",
    "version": 3
   },
   "file_extension": ".py",
   "mimetype": "text/x-python",
   "name": "python",
   "nbconvert_exporter": "python",
   "pygments_lexer": "ipython3",
   "version": "3.10.4"
  }
 },
 "nbformat": 4,
 "nbformat_minor": 2
}
