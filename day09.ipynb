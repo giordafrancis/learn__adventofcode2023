{
 "cells": [
  {
   "cell_type": "markdown",
   "metadata": {},
   "source": [
    "# Advent of code 2023\n",
    "\n",
    "Solutions are my own, if any external source including hints have been used it shall be mentioned and linked.\n"
   ]
  },
  {
   "cell_type": "markdown",
   "metadata": {},
   "source": [
    "## Part1\n",
    "\n",
    "--- Day 9: Mirage Maintenance ---\n"
   ]
  },
  {
   "cell_type": "code",
   "execution_count": 13,
   "metadata": {},
   "outputs": [],
   "source": [
    "from __future__ import annotations\n",
    "from dataclasses import dataclass\n",
    "from typing import List, Generator\n",
    "\n",
    "TEST = \"\"\"0 3 6 9 12 15\n",
    "1 3 6 10 15 21\n",
    "10 13 16 21 30 45\"\"\"\n",
    "\n",
    "@dataclass\n",
    "class Value:\n",
    "    history: List[int]\n",
    "\n",
    "    @staticmethod\n",
    "    def parse_value(row: str) -> Value:\n",
    "        \"\"\"\n",
    "        Parse the input row and return a Value instance.\n",
    "\n",
    "        Parameters:\n",
    "        row (str): A string containing space-separated integer values.\n",
    "\n",
    "        Returns:\n",
    "        Value: An instance of the Value class containing the parsed integer values.\n",
    "        \"\"\"\n",
    "        return Value(history=[int(val) for val in row.split()])\n",
    "    \n",
    "    def forward_differences(self) -> Generator[int, None, None]:\n",
    "        \"\"\"\n",
    "        Calculate forward differences until they reach a constant value.\n",
    "\n",
    "        Yields:\n",
    "        int: The last difference value in each iteration.\n",
    "        \"\"\"\n",
    "        differences = self.history.copy()\n",
    "        while True:\n",
    "            new_diff = [differences[i + 1] - differences[i] \n",
    "                        for i in range(len(differences) - 1)]\n",
    "            if all(val == 0 for val in new_diff):\n",
    "                break\n",
    "            yield new_diff[-1]\n",
    "            differences = new_diff.copy()\n",
    "\n",
    "    def backward_differences(self) -> Generator[int, None, None]:\n",
    "        \"\"\"\n",
    "        Calculate backward differences until they reach a constant value.\n",
    "\n",
    "        Yields:\n",
    "        int: The last difference value in each iteration.\n",
    "        \"\"\"\n",
    "        differences = self.history.copy()[::-1]\n",
    "        while True:\n",
    "            new_diff = [differences[i] - differences[i+1] \n",
    "                        for i in range(len(differences) - 1)]\n",
    "            if all(val == 0 for val in new_diff):\n",
    "                break\n",
    "            yield new_diff[-1]\n",
    "            differences = new_diff.copy()\n",
    "    \n",
    "    def extrapolate_last_value(self) -> int:\n",
    "        \"\"\"\n",
    "        Extrapolate the last value based on forward differences.\n",
    "\n",
    "        Returns:\n",
    "        int: The extrapolated last value.\n",
    "        \"\"\"\n",
    "        return sum(self.forward_differences()) + self.history[-1]\n",
    "    \n",
    "    def extrapolate_last_value2(self) -> int:\n",
    "        \"\"\"\n",
    "        Extrapolate the last value based on backward differences.\n",
    "\n",
    "        Returns:\n",
    "        int: The extrapolated first value.\n",
    "        \"\"\"\n",
    "        diff = list(self.backward_differences()).copy()\n",
    "        differences = [0] +  diff[::-1] + [self.history[0]] # bit of a hack...\n",
    "        total = 0\n",
    "        for i in range(len(differences)-1):\n",
    "            diff = differences[i+1] - total\n",
    "            total = diff\n",
    "        return total\n",
    "    \n",
    "@dataclass\n",
    "class Oasis:\n",
    "    values: List[Value]\n",
    "\n",
    "    @staticmethod\n",
    "    def parse_oasis(puzzle: str) -> Oasis:\n",
    "        \"\"\"\n",
    "        Parse the puzzle string and return an Oasis instance.\n",
    "\n",
    "        Parameters:\n",
    "        puzzle (str): A string containing newline-separated integer values.\n",
    "\n",
    "        Returns:\n",
    "        Oasis: An instance of the Oasis class containing parsed Value instances.\n",
    "        \"\"\"\n",
    "        values = [Value.parse_value(row=row) for row in puzzle.splitlines()]\n",
    "        return Oasis(values=values)\n",
    "    \n",
    "    def total_extrapolated_values(self, part2: bool = False) -> int:\n",
    "        \"\"\"\n",
    "        Calculate the total extrapolated values from Oasis instances.\n",
    "\n",
    "        Parameters:\n",
    "        part2 (bool, optional): If True, use extrapolate_last_value2 method.\n",
    "                                If False, use extrapolate_last_value method.\n",
    "\n",
    "        Returns:\n",
    "        int: The total sum of extrapolated values.\n",
    "        \"\"\"\n",
    "        if part2:\n",
    "            return sum(val.extrapolate_last_value2() for val in self.values)\n",
    "        return sum(val.extrapolate_last_value() for val in self.values)\n",
    "\n",
    "\n",
    "oasis = Oasis.parse_oasis(puzzle=TEST)\n",
    "assert oasis.total_extrapolated_values() == 114\n",
    "assert oasis.total_extrapolated_values(part2=True) == 2\n"
   ]
  },
  {
   "cell_type": "markdown",
   "metadata": {},
   "source": [
    "## Solutions"
   ]
  },
  {
   "cell_type": "code",
   "execution_count": 12,
   "metadata": {},
   "outputs": [
    {
     "name": "stdout",
     "output_type": "stream",
     "text": [
      "part1 1789635132\n",
      "part2 913\n"
     ]
    }
   ],
   "source": [
    "with open(\"puzzle_input/day09.txt\") as file:\n",
    "    puzzle = file.read()\n",
    "oasis = Oasis.parse_oasis(puzzle=puzzle)\n",
    "print(\"part1\", oasis.total_extrapolated_values())\n",
    "print(\"part2\", oasis.total_extrapolated_values(part2=True))\n"
   ]
  }
 ],
 "metadata": {
  "kernelspec": {
   "display_name": "Python 3",
   "language": "python",
   "name": "python3"
  },
  "language_info": {
   "codemirror_mode": {
    "name": "ipython",
    "version": 3
   },
   "file_extension": ".py",
   "mimetype": "text/x-python",
   "name": "python",
   "nbconvert_exporter": "python",
   "pygments_lexer": "ipython3",
   "version": "3.10.4"
  }
 },
 "nbformat": 4,
 "nbformat_minor": 2
}
