{
 "cells": [
  {
   "cell_type": "markdown",
   "metadata": {},
   "source": [
    "# Advent of code 2023\n",
    "\n",
    "Solutions are my own, if any external source including hints have been used it shall be mentioned and linked.\n"
   ]
  },
  {
   "cell_type": "markdown",
   "metadata": {},
   "source": [
    "## Part1"
   ]
  },
  {
   "cell_type": "markdown",
   "metadata": {},
   "source": [
    "For example:\n",
    "\n",
    "    Time:      7  15   30\n",
    "    Distance:  9  40  200\n",
    "\n",
    "This document describes three races:\n",
    "\n",
    "    The first race lasts 7 milliseconds. The record distance in this race is 9 millimeters.\n",
    "    The second race lasts 15 milliseconds. The record distance in this race is 40 millimeters.\n",
    "    The third race lasts 30 milliseconds. The record distance in this race is 200 millimeters.\n",
    "\n",
    "    Don't hold the button at all (that is, hold it for 0 milliseconds) at the start of the race. The boat won't move; it will have traveled 0 millimeters by the end of the race.\n",
    "    Hold the button for 1 millisecond at the start of the race. Then, the boat will travel at a speed of 1 millimeter per millisecond for 6 milliseconds, reaching a total distance traveled of 6 millimeters.\n",
    "    Hold the button for 2 milliseconds, giving the boat a speed of 2 millimeters per millisecond. It will then get 5 milliseconds to move, reaching a total distance of 10 millimeters.\n",
    "    Hold the button for 3 milliseconds. After its remaining 4 milliseconds of travel time, the boat will have gone 12 millimeters.\n",
    "    Hold the button for 4 milliseconds. After its remaining 3 milliseconds of travel time, the boat will have gone 12 millimeters.\n",
    "    Hold the button for 5 milliseconds, causing the boat to travel a total of 10 millimeters.\n",
    "    Hold the button for 6 milliseconds, causing the boat to travel a total of 6 millimeters.\n",
    "    Hold the button for 7 milliseconds. That's the entire duration of the race. You never let go of the button. The boat can't move until you let go of the button. Please make sure you let go of the button so the boat gets to move. 0 millimeters.\n",
    "\n",
    "\n",
    "Since the current record for this race is 9 millimeters, there are actually 4 different ways you could win: you could hold the button for 2, 3, 4, or 5 milliseconds at the start of the race.\n",
    "\n",
    "In the second race, you could hold the button for at least 4 milliseconds and at most 11 milliseconds and beat the record, a total of 8 different ways to win.\n",
    "\n",
    "In the third race, you could hold the button for at least 11 milliseconds and no more than 19 milliseconds and still beat the record, a total of 9 ways you could win.\n",
    "\n",
    "To see how much margin of error you have, determine the number of ways you can beat the record in each race; in this example, if you multiply these values together, you get 288 (4 * 8 * 9).\n",
    "\n",
    "Determine the number of ways you could beat the record in each race. What do you get if you multiply these numbers together?\n",
    "\n",
    "    \n"
   ]
  },
  {
   "cell_type": "code",
   "execution_count": 1,
   "metadata": {},
   "outputs": [],
   "source": [
    "from __future__ import annotations\n",
    "from dataclasses import dataclass\n",
    "import math\n",
    "\n",
    "@dataclass\n",
    "class Race:\n",
    "    time: int\n",
    "    record: int\n",
    "\n",
    "    def distance_traveled(self,hold:int)-> int:\n",
    "        if hold == 0 or hold >= self.time:\n",
    "            return 0\n",
    "        time_traveled = self.time - hold\n",
    "        return time_traveled * hold\n",
    "\n",
    "        \n",
    "    def number_records(self, batch):\n",
    "        lo, hi = self.find_hold_limits(batch=batch)\n",
    "        return sum( \n",
    "            self.distance_traveled(hold=hold) > self.record\n",
    "            for hold in range(lo, hi+1)\n",
    "        )\n",
    "    \n",
    "    def _find_lo(self, batch):\n",
    "        left = 0  # Define the search range start point\n",
    "        for i in range(left, self.time, batch):\n",
    "            dist = self.distance_traveled(i)\n",
    "            if dist > self.record:\n",
    "                return max(0, i - batch) # clip if < 0 \n",
    "            \n",
    "    def _find_high(self, batch):\n",
    "        right = self.time  # Define the search range start point\n",
    "        for i in range(right, 0, -batch):\n",
    "            dist = self.distance_traveled(i)\n",
    "            if dist > self.record:\n",
    "                return min(self.time, i + batch) # clip if over max time\n",
    "\n",
    "    def find_hold_limits(self, batch):\n",
    "        \"\"\"reduces hold times search to a near point left and right\n",
    "        the record area\"\"\"\n",
    "        lo, hi = self._find_lo(batch=batch), self._find_high(batch=batch)\n",
    "        return lo, hi\n",
    "        \n",
    "    @staticmethod\n",
    "    def parse_race(puzzle:str, idx:int)->Race:\n",
    "        \"\"\"\n",
    "        Time:      7  15   30\n",
    "        Distance:  9  40  200\n",
    "        \"\"\"\n",
    "        lines = puzzle.splitlines()\n",
    "        for line in lines:\n",
    "            name, values = line.split(\":  \")\n",
    "            values = values.split()\n",
    "            \n",
    "            if \"Time\" in name:\n",
    "                time = int(values[idx])\n",
    "            else:\n",
    "                record = int(values[idx])\n",
    "        return Race(time=time, record=record)\n",
    "                \n",
    "TEST = \"\"\"Time:      7  15   30\n",
    "Distance:  9  40  200\"\"\"\n",
    "\n",
    "def parse_races(puzzle:str, part2=False)->list[Race]:\n",
    "    \"\"\"Parses all races in a puzzle input\"\"\"\n",
    "    L = len(puzzle.splitlines()[0].split(\": \")[-1].split())\n",
    "    races = list()\n",
    "    for idx in range(L):\n",
    "        races.append(Race.parse_race(puzzle=puzzle, \n",
    "                                    idx=idx))\n",
    "    if part2:\n",
    "        time, record = \"\", \"\"\n",
    "        for race in races:\n",
    "            time += str(race.time)\n",
    "            record += str(race.record)\n",
    "        return Race(time=int(time), \n",
    "                    record=int(record)) \n",
    "\n",
    "    return races\n",
    "\n",
    "def parts(races:list[Race], batch=2)->int:\n",
    "    return math.prod(\n",
    "        race.number_records(batch=batch)\n",
    "        for race in races\n",
    "        )"
   ]
  },
  {
   "cell_type": "code",
   "execution_count": 2,
   "metadata": {},
   "outputs": [],
   "source": [
    "races = parse_races(puzzle=TEST)\n",
    "assert parts(races=races) == 288\n",
    "race = parse_races(puzzle=TEST, part2=True)\n",
    "assert race.number_records(batch=10) == 71503"
   ]
  },
  {
   "cell_type": "markdown",
   "metadata": {},
   "source": [
    "## Solutions"
   ]
  },
  {
   "cell_type": "code",
   "execution_count": 3,
   "metadata": {},
   "outputs": [
    {
     "name": "stdout",
     "output_type": "stream",
     "text": [
      "part1 293046\n"
     ]
    },
    {
     "name": "stdout",
     "output_type": "stream",
     "text": [
      "part2 35150181\n"
     ]
    }
   ],
   "source": [
    "with open(\"puzzle_input/day06.txt\") as file:\n",
    "    puzzle = file.read()\n",
    "races = parse_races(puzzle=puzzle)\n",
    "race  = parse_races(puzzle=puzzle, part2=True)\n",
    "print(\"part1\", parts(races=races)) # 156156\n",
    "print(\"part2\", parts(races=[race], batch=10_000))"
   ]
  }
 ],
 "metadata": {
  "kernelspec": {
   "display_name": "Python 3",
   "language": "python",
   "name": "python3"
  },
  "language_info": {
   "codemirror_mode": {
    "name": "ipython",
    "version": 3
   },
   "file_extension": ".py",
   "mimetype": "text/x-python",
   "name": "python",
   "nbconvert_exporter": "python",
   "pygments_lexer": "ipython3",
   "version": "3.10.4"
  }
 },
 "nbformat": 4,
 "nbformat_minor": 2
}
