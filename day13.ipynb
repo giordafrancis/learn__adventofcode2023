{
 "cells": [
  {
   "cell_type": "markdown",
   "metadata": {},
   "source": [
    "# Advent of code 2023\n",
    "\n",
    "Solutions are my own, if any external source including hints have been used it shall be mentioned and linked.\n",
    "\n",
    "**For a matrix transposition in pure python ive used this link https://datagy.io/python-transpose-list-of-lists/**\n",
    "\n"
   ]
  },
  {
   "cell_type": "markdown",
   "metadata": {},
   "source": [
    "## Part 1\n"
   ]
  },
  {
   "cell_type": "code",
   "execution_count": 7,
   "metadata": {},
   "outputs": [],
   "source": [
    "from __future__ import annotations\n",
    "from dataclasses import dataclass\n",
    "\n",
    "\n",
    "TEST = \"\"\"#.##..##.\n",
    "..#.##.#.\n",
    "##......#\n",
    "##......#\n",
    "..#.##.#.\n",
    "..##..##.\n",
    "#.#.##.#.\n",
    "\n",
    "#...##..#\n",
    "#....#..#\n",
    "..##..###\n",
    "#####.##.\n",
    "#####.##.\n",
    "..##..###\n",
    "#....#..#\"\"\"\n",
    "\n",
    "@dataclass\n",
    "class Pattern:\n",
    "    pattern:str\n",
    "\n",
    "\n",
    "\n",
    "    def transpose(self):\n",
    "        \"\"\"\n",
    "        Transpose a list of strings in python\n",
    "        copied from : https://datagy.io/python-transpose-list-of-lists/\n",
    "        \"\"\"\n",
    "        num_cols = len(self.pattern[0])\n",
    "        transposed = [\n",
    "                        [row[i] for row in self.pattern] \n",
    "                        for i in range(num_cols)\n",
    "        ]\n",
    "        self.pattern_transposed = transposed\n",
    "\n",
    "    def _mirror_lines(self, pattern:list[str])->int:\n",
    "\n",
    "    \n",
    "        for idx in range(1, len(pattern)):\n",
    "            # reverse order of top so top bottom are next to each other\n",
    "            top = list(reversed(pattern[:idx])) \n",
    "            bottom = pattern[idx:]\n",
    "            \n",
    "\n",
    "            # clip top bottom\n",
    "            top = top[:len(bottom)]\n",
    "            bottom = bottom[:len(top)]\n",
    "            # print(\"top\", top, \"bottom\", bottom, sep=\"\\n\")\n",
    "            # print(top, bottom)\n",
    "        \n",
    "            if top == bottom:\n",
    "                return idx\n",
    "        \n",
    "        return 0\n",
    "    \n",
    "    def _mirror_lines_smudge(self,  pattern:list[str]):\n",
    "        for idx in range(1, len(pattern)):\n",
    "            # reverse order of top so top bottom are next to each other\n",
    "            top = list(reversed(list(pattern[:idx]))) \n",
    "            bottom = list(pattern[idx:])\n",
    "                \n",
    "            # clip top bottom\n",
    "            top = top[:len(bottom)]\n",
    "            bottom = bottom[:len(top)]\n",
    "            diffs = list()\n",
    "            for l1, l2 in zip(top, bottom):\n",
    "                if len(diffs) > 1:\n",
    "                    break\n",
    "                for c1, c2 in zip(l1,l2):\n",
    "                    if c1 != c2: # char vs char comparison\n",
    "                        diffs.append((c1,c2))\n",
    "            # only one diff == smudge\n",
    "            if len(diffs) == 1:\n",
    "                return idx\n",
    "        return 0\n",
    "\n",
    "    def mirror_lines(self, part1:bool=True)->list[int]:\n",
    "\n",
    "        self.transpose()\n",
    "        solutions = list()\n",
    "        for patt in [self.pattern, self.pattern_transposed]:\n",
    "            solutions.append(self._mirror_lines(pattern=patt)) if part1 else solutions.append(self._mirror_lines_smudge(pattern=patt))\n",
    "        return solutions\n",
    "\n",
    "def parse_puzzle(puzzle:str)->list[Pattern]:\n",
    "    rows = puzzle.split(\"\\n\\n\")\n",
    "    patterns = list()\n",
    "    for row in rows:\n",
    "        patterns.append(Pattern(pattern=[list(r) for r in row.split()]))\n",
    "    return patterns\n",
    "\n",
    "def part1_2(puzzle:str, part1:bool=True)->int:\n",
    "    patterns = parse_puzzle(puzzle=puzzle)\n",
    "    total = 0\n",
    "    for p in patterns:\n",
    "        rows, cols = p.mirror_lines(part1=part1)\n",
    "        # print(rows,cols)\n",
    "        total += (rows * 100) + cols\n",
    "        # print(total) \n",
    "    return total\n",
    "\n",
    "assert part1_2(puzzle=TEST, part1=False) == 400\n"
   ]
  },
  {
   "cell_type": "markdown",
   "metadata": {},
   "source": [
    "## Solutions"
   ]
  },
  {
   "cell_type": "code",
   "execution_count": 8,
   "metadata": {},
   "outputs": [
    {
     "name": "stdout",
     "output_type": "stream",
     "text": [
      "40006\n",
      "28627\n"
     ]
    }
   ],
   "source": [
    "with open(\"puzzle_input/day13.txt\") as file:\n",
    "    puzzle = file.read()\n",
    "print(part1_2(puzzle=puzzle, part1=True))\n",
    "print(part1_2(puzzle=puzzle, part1=False))\n"
   ]
  }
 ],
 "metadata": {
  "kernelspec": {
   "display_name": "Python 3",
   "language": "python",
   "name": "python3"
  },
  "language_info": {
   "codemirror_mode": {
    "name": "ipython",
    "version": 3
   },
   "file_extension": ".py",
   "mimetype": "text/x-python",
   "name": "python",
   "nbconvert_exporter": "python",
   "pygments_lexer": "ipython3",
   "version": "3.10.4"
  }
 },
 "nbformat": 4,
 "nbformat_minor": 2
}
