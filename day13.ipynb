{
 "cells": [
  {
   "cell_type": "markdown",
   "metadata": {},
   "source": [
    "# Advent of code 2023\n",
    "\n",
    "Solutions are my own, if any external source including hints have been used it shall be mentioned and linked.\n",
    "\n"
   ]
  },
  {
   "cell_type": "markdown",
   "metadata": {},
   "source": [
    "## Part 1\n"
   ]
  },
  {
   "cell_type": "code",
   "execution_count": null,
   "metadata": {},
   "outputs": [],
   "source": [
    "from __future__ import annotations\n",
    "from dataclasses import dataclass\n",
    "\n",
    "\n",
    "TEST = \"\"\"#.##..##.\n",
    "..#.##.#.\n",
    "##......#\n",
    "##......#\n",
    "..#.##.#.\n",
    "..##..##.\n",
    "#.#.##.#.\n",
    "\n",
    "#...##..#\n",
    "#....#..#\n",
    "..##..###\n",
    "#####.##.\n",
    "#####.##.\n",
    "..##..###\n",
    "#....#..#\"\"\"\n",
    "\n",
    "@dataclass\n",
    "class Pattern:\n",
    "    pattern:str\n",
    "\n",
    "\n",
    "\n",
    "    def transpose(self):\n",
    "        \"\"\"\n",
    "        Transpose a list of strings in python\n",
    "        \"\"\"\n",
    "        self.pattern_transposed = list(zip(*self.pattern))\n",
    "\n",
    "    def _mirror_lines(self, pattern:list[str]):\n",
    "\n",
    "    \n",
    "        for r in range(1, len(pattern)):\n",
    "            top = pattern[:r][::-1]\n",
    "            bottom = pattern[r:]\n",
    "        \n",
    "            top = top[:len(bottom)]\n",
    "            bottom = bottom[:len(top)]\n",
    "            # print(top, bottom)\n",
    "        \n",
    "            if top == bottom:\n",
    "                return r\n",
    "        \n",
    "        return 0\n",
    "\n",
    "    def mirror_lines(self)->list[int]:\n",
    "\n",
    "        self.transpose()\n",
    "        solutions = list()\n",
    "        for patt in [self.pattern, self.pattern_transposed]:\n",
    "            solutions.append(self._mirror_lines(pattern=patt))\n",
    "        return solutions\n",
    "\n",
    "def parse_puzzle(puzzle:str)->list[Pattern]:\n",
    "    rows = puzzle.split(\"\\n\\n\")\n",
    "    patterns = list()\n",
    "    for row in rows:\n",
    "        patterns.append(Pattern(pattern=row.split()))\n",
    "    return patterns\n",
    "\n",
    "def part1(puzzle:str)->int:\n",
    "    patterns = parse_puzzle(puzzle=puzzle)\n",
    "    total = 0\n",
    "    for p in patterns:\n",
    "        rows, cols = p.mirror_lines()\n",
    "        # print(rows,cols)\n",
    "        total += (rows * 100) + cols\n",
    "        # print(total) \n",
    "    return total\n",
    "\n",
    "assert part1(puzzle=TEST) == 405\n"
   ]
  },
  {
   "cell_type": "markdown",
   "metadata": {},
   "source": [
    "## Solutions"
   ]
  },
  {
   "cell_type": "code",
   "execution_count": 3,
   "metadata": {},
   "outputs": [
    {
     "name": "stdout",
     "output_type": "stream",
     "text": [
      "40006\n"
     ]
    }
   ],
   "source": [
    "with open(\"puzzle_input/day13.txt\") as file:\n",
    "    puzzle = file.read()\n",
    "print(part1(puzzle=puzzle))"
   ]
  }
 ],
 "metadata": {
  "kernelspec": {
   "display_name": "Python 3",
   "language": "python",
   "name": "python3"
  },
  "language_info": {
   "codemirror_mode": {
    "name": "ipython",
    "version": 3
   },
   "file_extension": ".py",
   "mimetype": "text/x-python",
   "name": "python",
   "nbconvert_exporter": "python",
   "pygments_lexer": "ipython3",
   "version": "3.10.4"
  }
 },
 "nbformat": 4,
 "nbformat_minor": 2
}
